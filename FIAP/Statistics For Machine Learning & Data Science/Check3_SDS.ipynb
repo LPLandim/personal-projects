{
 "cells": [
  {
   "cell_type": "code",
   "execution_count": 23,
   "metadata": {},
   "outputs": [
    {
     "name": "stdout",
     "output_type": "stream",
     "text": [
      "P-valor:  0.4385780260809997\n",
      "As variáveis são independentes\n"
     ]
    }
   ],
   "source": [
    "from scipy.stats import chi2_contingency\n",
    "import pandas as pd\n",
    "\n",
    "var1 = ['Masculino','Masculino','Masculino','Masculino','Masculino','Masculino','Feminino','Feminino','Feminino','Feminino','Feminino','Feminino']\n",
    "var2 = ['Cachorro','Cachorro','Cachorro','Cachorro','Cachorro','Cachorro','Cachorro','Cachorro','Cachorro','Cachorro','Gato','Gato']\n",
    "\n",
    "chi = pd.crosstab(var1, var2)\n",
    "chi_score, p_valor, dof, expected = chi2_contingency(chi)\n",
    "\n",
    "# chi_score: estatistica-t\n",
    "# p_valor: porcentagem\n",
    "# dof: graus de liberdade\n",
    "# saber se as variáveis são dependentes ou não\n",
    "# modelo do teste de hipóteses:\n",
    "# H0 diz que não existe associação entre as variáveis (É INDEPENDENTE)\n",
    "# H1 diz que existe associação entre as variáveis (É DEPENDENTE)\n",
    "print(\"P-valor: \", p_valor)\n",
    "\n",
    "alpha = 0.05\n",
    "\n",
    "if p_valor < alpha:\n",
    "    print(\"As variáveis são dependentes\")\n",
    "    \n",
    "else:\n",
    "    print(\"As variáveis são independentes\")"
   ]
  },
  {
   "cell_type": "code",
   "execution_count": 24,
   "metadata": {},
   "outputs": [
    {
     "name": "stdout",
     "output_type": "stream",
     "text": [
      "12\n"
     ]
    }
   ],
   "source": [
    "# formula para cálculo de tamanho de amostra para dados contínuos\n",
    "def formula_amostra_continua(N, S, Z, ME):\n",
    "    n = (Z**2 * S**2 * N) / ((ME**2 * (N-1)) + (Z**2 * S**2))\n",
    "    return int(n)\n",
    "\n",
    "# formula para cálculo de tamanho de amostra para dados discretos\n",
    "def formula_amostra_discreta(N, Z, ME):\n",
    "    n = (Z**2 * 0.25 * N) / ((ME**2 * (N-1)) + (Z**2 * 0.25))\n",
    "    return int(n)\n",
    "\n",
    "# Cálculo do tamanho mínimo da amostra\n",
    "# INTERVALO DE CONFIANÇA\n",
    "# 1000 ELEMENTOS\n",
    "# 150 TAMANHO MÍNIMO DA AMOSTRA\n",
    "# NUM INTERVALO DE CONFIANÇA DE 90%\n",
    "# E COM UMA MARGEM DE ERRO DE 5%\n",
    "\n",
    "# A AMOSTRA DISCRETA: QUANTIDADE DE PRODUTOS NO CARRINHO. PREÇO. NOME.\n",
    "# A AMOSTRA CONTINUA: DADOS CUJA REPRESENTAÇÃO É INFINITA 39ºc, 39,01ºC 39,001ºC\n",
    "# DISCRETIZAR A MINHA VARIÁVEL 39ºC 40ºC\n",
    "\n",
    "N = 15 # TAMANHO DA MINHA POPULAÇÃO\n",
    "# para 90% de intervalo de confiança: 1.64\n",
    "# para 95% de intervalo de confiança: 1.96\n",
    "# para 99% de intervalo de confiança: 2.1\n",
    "Z = 1.64\n",
    "# margem de erro de 1%\n",
    "\n",
    "ME = 0.1\n",
    "print(formula_amostra_discreta(N, Z, ME))"
   ]
  },
  {
   "attachments": {},
   "cell_type": "markdown",
   "metadata": {},
   "source": [
    "1. Converter os dados da planilha \"Carros\" em um CSV e carregá-lo no Python"
   ]
  },
  {
   "cell_type": "code",
   "execution_count": 25,
   "metadata": {},
   "outputs": [],
   "source": [
    "import pandas as pd\n",
    "\n",
    "df = pd.read_excel(\"Motos_Marca.xlsx\", sheet_name = 1)\n",
    "df.head()\n",
    "\n",
    "df.to_csv(\"Marca.csv\", sep = ',')"
   ]
  },
  {
   "cell_type": "code",
   "execution_count": 26,
   "metadata": {},
   "outputs": [],
   "source": [
    "carro = pd.read_csv(\"Marca.csv\", sep= ',')\n",
    "carro.head() \n",
    "carro.drop(columns= 'Unnamed: 0', inplace = True) # Deletando a primeira coluna"
   ]
  },
  {
   "cell_type": "code",
   "execution_count": 27,
   "metadata": {},
   "outputs": [],
   "source": [
    "carro.dropna(inplace = True)"
   ]
  },
  {
   "cell_type": "code",
   "execution_count": null,
   "metadata": {},
   "outputs": [],
   "source": []
  },
  {
   "attachments": {},
   "cell_type": "markdown",
   "metadata": {},
   "source": [
    "2. Realizar teste qui quadrado com as colunas \"potência motor\" e \"velocidade máxima\". As variáveis são dependentes ou independentes? Utilizar alpha de 5%.\n"
   ]
  },
  {
   "cell_type": "code",
   "execution_count": 28,
   "metadata": {},
   "outputs": [
    {
     "name": "stdout",
     "output_type": "stream",
     "text": [
      "P-valor:  0.0\n",
      "As variáveis são dependentes\n"
     ]
    }
   ],
   "source": [
    "from scipy.stats import chi2_contingency\n",
    "import pandas as pd\n",
    "\n",
    "var1 = carro['Potência Motor']\n",
    "var2 = carro['Velocidade máxima']\n",
    "\n",
    "chi = pd.crosstab(var1, var2)\n",
    "chi_score, p_valor, dof, expected = chi2_contingency(chi)\n",
    "\n",
    "# chi_score: estatistica-t\n",
    "# p_valor: porcentagem\n",
    "# dof: graus de liberdade\n",
    "# saber se as variáveis são dependentes ou não\n",
    "# modelo do teste de hipóteses:\n",
    "# H0 diz que não existe associação entre as variáveis (É INDEPENDENTE)\n",
    "# H1 diz que existe associação entre as variáveis (É DEPENDENTE)\n",
    "print(\"P-valor: \", p_valor)\n",
    "\n",
    "alpha = 0.05\n",
    "\n",
    "if p_valor < alpha:\n",
    "    print(\"As variáveis são dependentes\")\n",
    "    \n",
    "else:\n",
    "    print(\"As variáveis são independentes\")"
   ]
  },
  {
   "attachments": {},
   "cell_type": "markdown",
   "metadata": {},
   "source": [
    "3. Calcular o tamanho mínimo da amostra para a base \"Carros\" com 95% de intervalo de confiança e margem de erro de 1%"
   ]
  },
  {
   "cell_type": "code",
   "execution_count": 29,
   "metadata": {},
   "outputs": [
    {
     "name": "stdout",
     "output_type": "stream",
     "text": [
      "<class 'pandas.core.frame.DataFrame'>\n",
      "Index: 2363 entries, 0 to 2567\n",
      "Data columns (total 8 columns):\n",
      " #   Column             Non-Null Count  Dtype  \n",
      "---  ------             --------------  -----  \n",
      " 0   Marca              2363 non-null   object \n",
      " 1   Modelo             2363 non-null   object \n",
      " 2   Comprimento        2363 non-null   int64  \n",
      " 3   Carga máxima       2363 non-null   float64\n",
      " 4   Cilindradas        2363 non-null   int64  \n",
      " 5   Potência Motor     2363 non-null   int64  \n",
      " 6   Câmbio             2363 non-null   object \n",
      " 7   Velocidade máxima  2363 non-null   float64\n",
      "dtypes: float64(2), int64(3), object(3)\n",
      "memory usage: 166.1+ KB\n"
     ]
    }
   ],
   "source": [
    "carro.info()"
   ]
  },
  {
   "cell_type": "code",
   "execution_count": 30,
   "metadata": {},
   "outputs": [
    {
     "name": "stdout",
     "output_type": "stream",
     "text": [
      "92\n"
     ]
    }
   ],
   "source": [
    "# formula para cálculo de tamanho de amostra para dados contínuos\n",
    "def formula_amostra_continua(N, S, Z, ME):\n",
    "    n = (Z**2 * S**2 * N) / ((ME**2 * (N-1)) + (Z**2 * S**2))\n",
    "    return int(n)\n",
    "\n",
    "# formula para cálculo de tamanho de amostra para dados discretos\n",
    "def formula_amostra_discreta(N, Z, ME):\n",
    "    n = (Z**2 * 0.25 * N) / ((ME**2 * (N-1)) + (Z**2 * 0.25))\n",
    "    return int(n)\n",
    "\n",
    "# Cálculo do tamanho mínimo da amostra\n",
    "# INTERVALO DE CONFIANÇA\n",
    "# 1000 ELEMENTOS\n",
    "# 150 TAMANHO MÍNIMO DA AMOSTRA\n",
    "# NUM INTERVALO DE CONFIANÇA DE 90%\n",
    "# E COM UMA MARGEM DE ERRO DE 5%\n",
    "\n",
    "# A AMOSTRA DISCRETA: QUANTIDADE DE PRODUTOS NO CARRINHO. PREÇO. NOME.\n",
    "# A AMOSTRA CONTINUA: DADOS CUJA REPRESENTAÇÃO É INFINITA 39ºc, 39,01ºC 39,001ºC\n",
    "# DISCRETIZAR A MINHA VARIÁVEL 39ºC 40ºC\n",
    "\n",
    "N = carro.shape[0] # TAMANHO DA MINHA POPULAÇÃO\n",
    "# para 90% de intervalo de confiança: 1.64\n",
    "# para 95% de intervalo de confiança: 1.96\n",
    "# para 99% de intervalo de confiança: 2.1\n",
    "Z = 1.96\n",
    "\n",
    "\n",
    "# margem de erro de 1%\n",
    "ME = 0.1\n",
    "print(formula_amostra_discreta(N, Z, ME))"
   ]
  },
  {
   "attachments": {},
   "cell_type": "markdown",
   "metadata": {},
   "source": [
    "4. Faça uma análise exploratoria das variáveis Marca, Modelo, Comprimento e Carga Máxima. Somente dessas colunas."
   ]
  },
  {
   "cell_type": "code",
   "execution_count": 31,
   "metadata": {},
   "outputs": [
    {
     "name": "stdout",
     "output_type": "stream",
     "text": [
      "Marca\n",
      "Audi    2097\n",
      "Fiat     266\n",
      "Name: count, dtype: int64\n",
      "\n",
      "\n",
      "Modelo\n",
      "A4           452\n",
      "A3           426\n",
      "A6           411\n",
      "A5           150\n",
      "100           99\n",
      "            ... \n",
      "Linea          1\n",
      "600            1\n",
      "126            1\n",
      "SQ7            1\n",
      "Barchetta      1\n",
      "Name: count, Length: 65, dtype: int64\n"
     ]
    }
   ],
   "source": [
    "print(carro['Marca'].value_counts())\n",
    "print('\\n')\n",
    "print(carro['Modelo'].value_counts())"
   ]
  },
  {
   "cell_type": "code",
   "execution_count": 32,
   "metadata": {},
   "outputs": [
    {
     "name": "stdout",
     "output_type": "stream",
     "text": [
      "Comprimento:\n",
      "\n",
      " count    2363.000000\n",
      "mean     4529.953872\n",
      "std       343.484757\n",
      "min      3054.000000\n",
      "25%      4241.000000\n",
      "50%      4575.000000\n",
      "75%      4796.000000\n",
      "max      5394.000000\n",
      "Name: Comprimento, dtype: float64\n",
      "\n",
      "\n",
      "Carga máx:\n",
      "\n",
      " count    2363.000000\n",
      "mean     1997.338129\n",
      "std       295.646053\n",
      "min       920.000000\n",
      "25%      1805.000000\n",
      "50%      1985.000000\n",
      "75%      2172.500000\n",
      "max      3405.000000\n",
      "Name: Carga máxima, dtype: float64\n"
     ]
    }
   ],
   "source": [
    "print('Comprimento:\\n\\n',carro['Comprimento'].describe())\n",
    "print('\\n')\n",
    "print('Carga máx:\\n\\n',carro['Carga máxima'].describe())\n"
   ]
  },
  {
   "attachments": {},
   "cell_type": "markdown",
   "metadata": {},
   "source": [
    "5. Calcular a matriz de correlação da Potência, Cilindradas e Velocidade máxma. Para cada correlação, informar se existe, se é direta ou inversa e se é fraca ou forte."
   ]
  },
  {
   "cell_type": "code",
   "execution_count": 33,
   "metadata": {},
   "outputs": [],
   "source": [
    "# corr() utiliza o Coeficiente de Pearson para determinar a correlação entre 2 variáveis\n",
    "# A correlação de Pearson ela mostra um número que varia entre -1 e +1\n",
    "# se o número é negativo, então a correlação é inversa\n",
    "# se o número é positivo, então a correlação é direta\n",
    "# se o número é entre 0 e 0.3, então não há correlação\n",
    "# se o número é entre 0.3 e 0.7 então há correlação fraca\n",
    "# se o número é entre 0.7 e 0.999 então há correlação forte\n",
    "# se o número é 1, então há colinearidade"
   ]
  },
  {
   "cell_type": "code",
   "execution_count": 34,
   "metadata": {},
   "outputs": [
    {
     "name": "stdout",
     "output_type": "stream",
     "text": [
      "                   Potência Motor  Cilindradas  Velocidade máxima\n",
      "Potência Motor           1.000000     0.832562           0.853329\n",
      "Cilindradas              0.832562     1.000000           0.666193\n",
      "Velocidade máxima        0.853329     0.666193           1.000000\n"
     ]
    }
   ],
   "source": [
    "matriz_corr = carro[['Potência Motor', 'Cilindradas', 'Velocidade máxima']].corr()\n",
    "print(matriz_corr)"
   ]
  },
  {
   "attachments": {},
   "cell_type": "markdown",
   "metadata": {},
   "source": [
    "6. Plotar gráfico de dispersão entre Carga Máxima e Potência Motor. Fazer segundo gráfico de dispersão, mas desssa vez removendo observações, cuja carga máxima é menor do que 2000kg."
   ]
  },
  {
   "cell_type": "code",
   "execution_count": 35,
   "metadata": {},
   "outputs": [
    {
     "data": {
      "text/html": [
       "<div>\n",
       "<style scoped>\n",
       "    .dataframe tbody tr th:only-of-type {\n",
       "        vertical-align: middle;\n",
       "    }\n",
       "\n",
       "    .dataframe tbody tr th {\n",
       "        vertical-align: top;\n",
       "    }\n",
       "\n",
       "    .dataframe thead th {\n",
       "        text-align: right;\n",
       "    }\n",
       "</style>\n",
       "<table border=\"1\" class=\"dataframe\">\n",
       "  <thead>\n",
       "    <tr style=\"text-align: right;\">\n",
       "      <th></th>\n",
       "      <th>Marca</th>\n",
       "      <th>Modelo</th>\n",
       "      <th>Comprimento</th>\n",
       "      <th>Carga máxima</th>\n",
       "      <th>Cilindradas</th>\n",
       "      <th>Potência Motor</th>\n",
       "      <th>Câmbio</th>\n",
       "      <th>Velocidade máxima</th>\n",
       "    </tr>\n",
       "  </thead>\n",
       "  <tbody>\n",
       "    <tr>\n",
       "      <th>0</th>\n",
       "      <td>Audi</td>\n",
       "      <td>100</td>\n",
       "      <td>4790</td>\n",
       "      <td>1925.0</td>\n",
       "      <td>1984</td>\n",
       "      <td>115</td>\n",
       "      <td>Automático</td>\n",
       "      <td>179.0</td>\n",
       "    </tr>\n",
       "    <tr>\n",
       "      <th>1</th>\n",
       "      <td>Audi</td>\n",
       "      <td>100</td>\n",
       "      <td>4790</td>\n",
       "      <td>1910.0</td>\n",
       "      <td>1984</td>\n",
       "      <td>101</td>\n",
       "      <td>Manual</td>\n",
       "      <td>175.0</td>\n",
       "    </tr>\n",
       "    <tr>\n",
       "      <th>2</th>\n",
       "      <td>Audi</td>\n",
       "      <td>100</td>\n",
       "      <td>4790</td>\n",
       "      <td>1925.0</td>\n",
       "      <td>1984</td>\n",
       "      <td>115</td>\n",
       "      <td>Manual</td>\n",
       "      <td>184.0</td>\n",
       "    </tr>\n",
       "    <tr>\n",
       "      <th>3</th>\n",
       "      <td>Audi</td>\n",
       "      <td>100</td>\n",
       "      <td>4790</td>\n",
       "      <td>1970.0</td>\n",
       "      <td>2309</td>\n",
       "      <td>133</td>\n",
       "      <td>Automático</td>\n",
       "      <td>189.0</td>\n",
       "    </tr>\n",
       "    <tr>\n",
       "      <th>4</th>\n",
       "      <td>Audi</td>\n",
       "      <td>100</td>\n",
       "      <td>4790</td>\n",
       "      <td>1970.0</td>\n",
       "      <td>2309</td>\n",
       "      <td>133</td>\n",
       "      <td>Manual</td>\n",
       "      <td>194.0</td>\n",
       "    </tr>\n",
       "  </tbody>\n",
       "</table>\n",
       "</div>"
      ],
      "text/plain": [
       "  Marca Modelo  Comprimento  Carga máxima  Cilindradas  Potência Motor  \\\n",
       "0  Audi    100         4790        1925.0         1984             115   \n",
       "1  Audi    100         4790        1910.0         1984             101   \n",
       "2  Audi    100         4790        1925.0         1984             115   \n",
       "3  Audi    100         4790        1970.0         2309             133   \n",
       "4  Audi    100         4790        1970.0         2309             133   \n",
       "\n",
       "       Câmbio  Velocidade máxima  \n",
       "0  Automático              179.0  \n",
       "1      Manual              175.0  \n",
       "2      Manual              184.0  \n",
       "3  Automático              189.0  \n",
       "4      Manual              194.0  "
      ]
     },
     "execution_count": 35,
     "metadata": {},
     "output_type": "execute_result"
    }
   ],
   "source": [
    "carro.head()"
   ]
  },
  {
   "cell_type": "code",
   "execution_count": 36,
   "metadata": {},
   "outputs": [
    {
     "data": {
      "text/plain": [
       "<matplotlib.collections.PathCollection at 0x18a0ac326f0>"
      ]
     },
     "execution_count": 36,
     "metadata": {},
     "output_type": "execute_result"
    },
    {
     "data": {
      "image/png": "[encoded data removed]",
      "text/plain": [
       "<Figure size 640x480 with 1 Axes>"
      ]
     },
     "metadata": {},
     "output_type": "display_data"
    }
   ],
   "source": [
    "import matplotlib.pyplot as plt\n",
    "plt.scatter(carro['Carga máxima'], carro['Potência Motor'])\n",
    "# gráfico de dispersão\n"
   ]
  },
  {
   "cell_type": "code",
   "execution_count": 37,
   "metadata": {},
   "outputs": [
    {
     "data": {
      "text/plain": [
       "<matplotlib.collections.PathCollection at 0x18a0acb12b0>"
      ]
     },
     "execution_count": 37,
     "metadata": {},
     "output_type": "execute_result"
    },
    {
     "data": {
      "image/png": "[encoded data removed]",
      "text/plain": [
       "<Figure size 640x480 with 1 Axes>"
      ]
     },
     "metadata": {},
     "output_type": "display_data"
    }
   ],
   "source": [
    "ndf = carro[carro['Carga máxima'] < 2000]\n",
    "plt.scatter(ndf['Carga máxima'], ndf['Potência Motor'])"
   ]
  },
  {
   "attachments": {},
   "cell_type": "markdown",
   "metadata": {},
   "source": [
    "7. Realizar o teste de hipoteses entre Cilindradas e Velocidade Máxima. Assuma que tem normalidade e tem homocedasticidade. Assuma também que as variáveis são independentes - ttest_ind."
   ]
  },
  {
   "cell_type": "code",
   "execution_count": 38,
   "metadata": {},
   "outputs": [
    {
     "data": {
      "text/html": [
       "<div>\n",
       "<style scoped>\n",
       "    .dataframe tbody tr th:only-of-type {\n",
       "        vertical-align: middle;\n",
       "    }\n",
       "\n",
       "    .dataframe tbody tr th {\n",
       "        vertical-align: top;\n",
       "    }\n",
       "\n",
       "    .dataframe thead th {\n",
       "        text-align: right;\n",
       "    }\n",
       "</style>\n",
       "<table border=\"1\" class=\"dataframe\">\n",
       "  <thead>\n",
       "    <tr style=\"text-align: right;\">\n",
       "      <th></th>\n",
       "      <th>Marca</th>\n",
       "      <th>Modelo</th>\n",
       "      <th>Comprimento</th>\n",
       "      <th>Carga máxima</th>\n",
       "      <th>Cilindradas</th>\n",
       "      <th>Potência Motor</th>\n",
       "      <th>Câmbio</th>\n",
       "      <th>Velocidade máxima</th>\n",
       "    </tr>\n",
       "  </thead>\n",
       "  <tbody>\n",
       "    <tr>\n",
       "      <th>0</th>\n",
       "      <td>Audi</td>\n",
       "      <td>100</td>\n",
       "      <td>4790</td>\n",
       "      <td>1925.0</td>\n",
       "      <td>1984</td>\n",
       "      <td>115</td>\n",
       "      <td>Automático</td>\n",
       "      <td>179.0</td>\n",
       "    </tr>\n",
       "    <tr>\n",
       "      <th>1</th>\n",
       "      <td>Audi</td>\n",
       "      <td>100</td>\n",
       "      <td>4790</td>\n",
       "      <td>1910.0</td>\n",
       "      <td>1984</td>\n",
       "      <td>101</td>\n",
       "      <td>Manual</td>\n",
       "      <td>175.0</td>\n",
       "    </tr>\n",
       "    <tr>\n",
       "      <th>2</th>\n",
       "      <td>Audi</td>\n",
       "      <td>100</td>\n",
       "      <td>4790</td>\n",
       "      <td>1925.0</td>\n",
       "      <td>1984</td>\n",
       "      <td>115</td>\n",
       "      <td>Manual</td>\n",
       "      <td>184.0</td>\n",
       "    </tr>\n",
       "    <tr>\n",
       "      <th>3</th>\n",
       "      <td>Audi</td>\n",
       "      <td>100</td>\n",
       "      <td>4790</td>\n",
       "      <td>1970.0</td>\n",
       "      <td>2309</td>\n",
       "      <td>133</td>\n",
       "      <td>Automático</td>\n",
       "      <td>189.0</td>\n",
       "    </tr>\n",
       "    <tr>\n",
       "      <th>4</th>\n",
       "      <td>Audi</td>\n",
       "      <td>100</td>\n",
       "      <td>4790</td>\n",
       "      <td>1970.0</td>\n",
       "      <td>2309</td>\n",
       "      <td>133</td>\n",
       "      <td>Manual</td>\n",
       "      <td>194.0</td>\n",
       "    </tr>\n",
       "  </tbody>\n",
       "</table>\n",
       "</div>"
      ],
      "text/plain": [
       "  Marca Modelo  Comprimento  Carga máxima  Cilindradas  Potência Motor  \\\n",
       "0  Audi    100         4790        1925.0         1984             115   \n",
       "1  Audi    100         4790        1910.0         1984             101   \n",
       "2  Audi    100         4790        1925.0         1984             115   \n",
       "3  Audi    100         4790        1970.0         2309             133   \n",
       "4  Audi    100         4790        1970.0         2309             133   \n",
       "\n",
       "       Câmbio  Velocidade máxima  \n",
       "0  Automático              179.0  \n",
       "1      Manual              175.0  \n",
       "2      Manual              184.0  \n",
       "3  Automático              189.0  \n",
       "4      Manual              194.0  "
      ]
     },
     "execution_count": 38,
     "metadata": {},
     "output_type": "execute_result"
    }
   ],
   "source": [
    "carro.head()"
   ]
  },
  {
   "cell_type": "code",
   "execution_count": 39,
   "metadata": {},
   "outputs": [
    {
     "data": {
      "text/plain": [
       "Marca                0\n",
       "Modelo               0\n",
       "Comprimento          0\n",
       "Carga máxima         0\n",
       "Cilindradas          0\n",
       "Potência Motor       0\n",
       "Câmbio               0\n",
       "Velocidade máxima    0\n",
       "dtype: int64"
      ]
     },
     "execution_count": 39,
     "metadata": {},
     "output_type": "execute_result"
    }
   ],
   "source": [
    "carro.isnull().sum()"
   ]
  },
  {
   "cell_type": "code",
   "execution_count": 40,
   "metadata": {},
   "outputs": [
    {
     "name": "stdout",
     "output_type": "stream",
     "text": [
      "Estatísticas=128.881, p=0.000\n",
      "As médias são diferentes (rejeita H0)\n"
     ]
    }
   ],
   "source": [
    "from scipy.stats import ttest_ind\n",
    "\n",
    "# Realizando o teste t \n",
    "stat, p_valor = ttest_ind(carro['Cilindradas'], carro['Velocidade máxima'])\n",
    "\n",
    "print('Estatísticas=%.3f, p=%.3f' % (stat, p_valor))\n",
    "\n",
    "alpha = 0.05\n",
    "\n",
    "if p_valor <= alpha:\n",
    "    print('As médias são diferentes (rejeita H0)')\n",
    "else:\n",
    "    print('As médias são iguais (aceita H0)')\n"
   ]
  }
 ],
 "metadata": {
  "kernelspec": {
   "display_name": "Python 3",
   "language": "python",
   "name": "python3"
  },
  "language_info": {
   "codemirror_mode": {
    "name": "ipython",
    "version": 3
   },
   "file_extension": ".py",
   "mimetype": "text/x-python",
   "name": "python",
   "nbconvert_exporter": "python",
   "pygments_lexer": "ipython3",
   "version": "3.12.0"
  },
  "orig_nbformat": 4,
  "vscode": {
   "interpreter": {
    "hash": "fa41c318a2038e95bc4370653de2cec7579237442a953ec2e10c6cce38c0439d"
   }
  }
 },
 "nbformat": 4,
 "nbformat_minor": 2
}
