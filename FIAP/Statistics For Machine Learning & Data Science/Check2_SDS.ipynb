{
 "cells": [
  {
   "cell_type": "code",
   "execution_count": null,
   "metadata": {},
   "outputs": [],
   "source": [
    "# Checkpoint 2\n",
    "# SDS \n",
    "\n",
    "# Lucas Paes Landim Pereira - RM550349  \n",
    "# Gabriela Soares Teixeira - RM98853"
   ]
  },
  {
   "cell_type": "code",
   "execution_count": 45,
   "metadata": {},
   "outputs": [
    {
     "name": "stdout",
     "output_type": "stream",
     "text": [
      "Média: 157.54811583577714\n",
      "Mediana: 46.485\n",
      "Variância: 130208.61649316788\n",
      "Desvio Padrão: 360.84431060107886\n"
     ]
    }
   ],
   "source": [
    "import pandas as pd\n",
    "import scipy.stats as stats\n",
    "import numpy as np\n",
    "from scipy.stats import shapiro, levene, f_oneway, friedmanchisquare\n",
    "import scikit_posthocs as sp\n",
    "\n",
    "# Carregando os dados\n",
    "df = pd.read_csv('teste (1).txt', sep='\\t', header=None, names=['estado', 'valor'])\n",
    "\n",
    "# 1. Estimativas de localização e variabilidade para a coluna valor\n",
    "media = df['valor'].mean()\n",
    "mediana = df['valor'].median()\n",
    "variancia = df['valor'].var()\n",
    "desvio_padrao = df['valor'].std()\n",
    "\n",
    "print(f'Média: {media}')\n",
    "print(f'Mediana: {mediana}')\n",
    "print(f'Variância: {variancia}')\n",
    "print(f'Desvio Padrão: {desvio_padrao}')\n"
   ]
  },
  {
   "cell_type": "code",
   "execution_count": 46,
   "metadata": {},
   "outputs": [
    {
     "name": "stdout",
     "output_type": "stream",
     "text": [
      "              mean  median            var         std\n",
      "estado                                               \n",
      "MG       81.192008  34.240   11264.612340  106.134878\n",
      "MT      160.087158  45.045   68522.991864  261.768967\n",
      "PR      170.376980  37.445  332882.766026  576.959935\n",
      "RJ      167.878026  64.120   75633.052893  275.014641\n",
      "RS      126.332219  43.450   35064.532132  187.255259\n",
      "SC      103.789109  34.550   32068.223448  179.076027\n",
      "SP      178.917040  53.580  104004.155155  322.496752\n"
     ]
    }
   ],
   "source": [
    "# 2. Recalculando as estimativas agrupando-as pela coluna estado\n",
    "estimativas_estado = df.groupby('estado')['valor'].agg(['mean', 'median', 'var', 'std'])\n",
    "print(estimativas_estado)"
   ]
  },
  {
   "cell_type": "code",
   "execution_count": 47,
   "metadata": {},
   "outputs": [
    {
     "name": "stdout",
     "output_type": "stream",
     "text": [
      "Estatística-T =0.377, p-valor= 0.000\n",
      "A amostra não parece Gaussiana (rejeita H0)\n"
     ]
    },
    {
     "name": "stderr",
     "output_type": "stream",
     "text": [
      "c:\\Users\\Administrator\\AppData\\Local\\Programs\\Python\\Python311\\Lib\\site-packages\\scipy\\stats\\_morestats.py:1816: UserWarning: p-value may not be accurate for N > 5000.\n",
      "  warnings.warn(\"p-value may not be accurate for N > 5000.\")\n"
     ]
    }
   ],
   "source": [
    "# 3. Verificando a normalidade dos dados da coluna valor\n",
    "stat, p = shapiro(df['valor'])\n",
    "print('Estatística-T =%.3f, p-valor= %.3f' % (stat, p))\n",
    "alpha = 0.05\n",
    "if p > alpha:\n",
    "    print('A amostra parece Gaussiana (aceita H0)')\n",
    "else:\n",
    "    print('A amostra não parece Gaussiana (rejeita H0)')"
   ]
  },
  {
   "cell_type": "code",
   "execution_count": 48,
   "metadata": {},
   "outputs": [
    {
     "name": "stdout",
     "output_type": "stream",
     "text": [
      "Estatística-T= 3.837, p-valor= 0.001\n",
      "As variâncias são diferentes (rejeita H0)\n"
     ]
    }
   ],
   "source": [
    "# 4. Avaliando se a variância entre os grupos é estatisticamente diferente\n",
    "estados = df['estado'].unique()\n",
    "grupos = [df[df['estado'] == estado]['valor']\n",
    "          for estado in estados]\n",
    "stat, p = levene(*grupos)\n",
    "print('Estatística-T= %.3f, p-valor= %.3f' % (stat, p))\n",
    "if p > alpha:\n",
    "    print('As variâncias são iguais (aceita H0)')\n",
    "else:\n",
    "    print('As variâncias são diferentes (rejeita H0)')\n",
    "    \n",
    "    # Encontrando o tamanho da menor amostra\n",
    "min_length = min(len(grupo) for grupo in grupos)\n",
    "\n",
    "# Reduzindo todas as amostras para o menor tamanho da amostra\n",
    "grupos = [grupo[:min_length] for grupo in grupos]"
   ]
  },
  {
   "cell_type": "code",
   "execution_count": 49,
   "metadata": {},
   "outputs": [
    {
     "name": "stdout",
     "output_type": "stream",
     "text": [
      "Estatística-t= 40.918, p-valor= 0.000\n",
      "Existe diferença entre as amostras com 1% de significância\n"
     ]
    }
   ],
   "source": [
    "# 5. Teste de hipóteses para determinar se existe diferença significativa entre cada um dos grupos\n",
    "if p > alpha:\n",
    "    # ANOVA\n",
    "    stat, p = f_oneway(*grupos)\n",
    "else:\n",
    "    # Qui Quadrado de Friedman\n",
    "    stat, p = friedmanchisquare(*grupos)\n",
    "    print('Estatística-t= %.3f, p-valor= %.3f' % (stat, p))\n",
    "    \n",
    "if p < 0.01:\n",
    "    print('Existe diferença entre as amostras com 1% de significância')\n",
    "elif p < 0.05:\n",
    "    print('Existe diferença entre as amostras com 5% de significância')\n",
    "elif p < 0.10:\n",
    "    print('Existe diferença entre as amostras com 10% de significância')\n",
    "else:\n",
    "    print('Não existe diferença entre as amostras')"
   ]
  },
  {
   "cell_type": "code",
   "execution_count": 50,
   "metadata": {},
   "outputs": [
    {
     "name": "stdout",
     "output_type": "stream",
     "text": [
      "          1         2         3         4         5         6         7\n",
      "1  1.000000  0.002856  0.008110  0.554425  0.738619  0.993243  0.579662\n",
      "2  0.002856  1.000000  0.928468  0.000227  0.000773  0.002763  0.000107\n",
      "3  0.008110  0.928468  1.000000  0.000081  0.000853  0.005166  0.000259\n",
      "4  0.554425  0.000227  0.000081  1.000000  0.255726  0.558973  0.446941\n",
      "5  0.738619  0.000773  0.000853  0.255726  1.000000  0.670728  0.581983\n",
      "6  0.993243  0.002763  0.005166  0.558973  0.670728  1.000000  0.680634\n",
      "7  0.579662  0.000107  0.000259  0.446941  0.581983  0.680634  1.000000\n"
     ]
    }
   ],
   "source": [
    "import scikit_posthocs as sp\n",
    "# 6. Teste posthoc correspondente da matriz de p-valores do teste de hipóteses realizado no item 5.\n",
    "# Como o teste posthoc depende do teste de hipóteses usado, este passo pode variar.\n",
    "# Teste de Tukey HSD após ANOVA:\n",
    "\n",
    "if p > alpha:\n",
    "    posthoc_df = sp.posthoc_ttest(grupos)\n",
    "else:\n",
    "    posthoc_df = sp.posthoc_wilcoxon(grupos)\n",
    "\n",
    "print(posthoc_df)\n"
   ]
  }
 ],
 "metadata": {
  "kernelspec": {
   "display_name": "Python 3",
   "language": "python",
   "name": "python3"
  },
  "language_info": {
   "codemirror_mode": {
    "name": "ipython",
    "version": 3
   },
   "file_extension": ".py",
   "mimetype": "text/x-python",
   "name": "python",
   "nbconvert_exporter": "python",
   "pygments_lexer": "ipython3",
   "version": "3.11.3"
  },
  "orig_nbformat": 4,
  "vscode": {
   "interpreter": {
    "hash": "ff4b1fca65a764b45acb559e482afe389d289dd599b9f8c5fd12ff5c2ea46a65"
   }
  }
 },
 "nbformat": 4,
 "nbformat_minor": 2
}
