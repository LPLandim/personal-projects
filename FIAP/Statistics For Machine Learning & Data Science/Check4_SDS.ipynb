{
 "cells": [
  {
   "cell_type": "code",
   "execution_count": 27,
   "metadata": {},
   "outputs": [],
   "source": [
    "import numpy as np\n",
    "from scipy import stats\n",
    "import scipy.stats as sts\n",
    "from scipy.stats import norm"
   ]
  },
  {
   "attachments": {},
   "cell_type": "markdown",
   "metadata": {},
   "source": [
    "Foram fornecidos dois arquivos texto com o consumo de água dos moradores de um edifício em um dado mês de 2022 e no mesmo mês de 2023. Com base na amostra fornecida, responda as questões abaixo. Serão consideradas apenas respostas acompanhadas de justificativa e código Python correspondente.\n"
   ]
  },
  {
   "cell_type": "markdown",
   "metadata": {},
   "source": [
    "1. Os moradores dos apartamentos 346, 394, 221, 301, 222, 302, 37, 91, 139, 223, 303, 347, 395 alegam que há algo errado com seus medidores de água, que está marcando maior consumo do que o normal."
   ]
  },
  {
   "attachments": {},
   "cell_type": "markdown",
   "metadata": {},
   "source": [
    "_________________________________________________________________________________________________________________________________________________________"
   ]
  },
  {
   "cell_type": "code",
   "execution_count": 28,
   "metadata": {},
   "outputs": [
    {
     "name": "stdout",
     "output_type": "stream",
     "text": [
      "As amostras seguem uma distribuição normal.\n",
      "Ambas as amostras apresentam homocedasticidade.\n",
      "Pode prosseguir com o teste-t.\n"
     ]
    }
   ],
   "source": [
    "# 1.a. É possível testar a alegação dos moradores utilizando a teoria de teste-t?\n",
    "\n",
    "# Amostras (consumo de água de dois anos)\n",
    "ano_2022 = np.array([33, 25, 42, 32, 28, 36, 40, 44, 0, 19, 45, 29, 20, 26, 16, 23, 0, 16, 19, 1, 33])\n",
    "ano_2023 = np.array([16, 23, 13, 17, 28, 36, 27, 0, 17, 16, 20, 13, 17, 14, 49, 33, 26, 37, 20, 24, 1])\n",
    "\n",
    "# Teste de Shapiro\n",
    "shapiro_2022 = sts.shapiro(ano_2022)\n",
    "shapiro_2023 = sts.shapiro(ano_2023)\n",
    "\n",
    "# Teste de Levene\n",
    "levene = sts.levene(ano_2022, ano_2023)\n",
    "\n",
    "# Checando a distribuição\n",
    "if shapiro_2022.pvalue > 0.05 and shapiro_2023.pvalue > 0.05:\n",
    "    normalidade = \"As amostras seguem uma distribuição normal.\"\n",
    "else:\n",
    "    normalidade =  \"Uma das amostras não segue uma distribuição normal.\"\n",
    "\n",
    "# Checandoas as variâncias e se é apropriado prosseguir com o teste-t\n",
    "if levene.pvalue > 0.05:\n",
    "    variancias_iguais = \"Ambas as amostras apresentam homocedasticidade.\"\n",
    "    teste_t = \"Pode prosseguir com o teste-t.\"\n",
    "else:\n",
    "    variancias_iguais = \"Pelo menos uma das amostras apresenta heterocedasticidade.\"\n",
    "    teste_t = \"Considere uma alternativa para o teste t.\"\n",
    "\n",
    "print(normalidade)\n",
    "print(variancias_iguais)\n",
    "print(teste_t)\n"
   ]
  },
  {
   "cell_type": "code",
   "execution_count": 29,
   "metadata": {},
   "outputs": [
    {
     "name": "stdout",
     "output_type": "stream",
     "text": [
      " R: Com 1% de significância a alegação dos moradores é improcedente\n",
      " R: Com 5% de significância a alegação dos moradores é improcedente\n",
      " R: Com 10% de significância a alegação dos moradores é improcedente\n"
     ]
    }
   ],
   "source": [
    "# 1.b. Considere que os dados são normais e tem homocedasticidade. Dessa forma, \n",
    "# a alegação dos moradores faz sentido? Teste com 1%, 5% e 10% de significância. \n",
    "# Para cada significância testada, qual o tipo de erro que pode ter sido cometido?\n",
    "\n",
    "def Verif_Alegacao(valor_p, significancia):\n",
    "    if valor_p < significancia:\n",
    "        return \"procedente\"\n",
    "    else:\n",
    "        return \"improcedente\"\n",
    "\n",
    "significancias = [0.01, 0.05, 0.10]\n",
    "\n",
    "for significancia in significancias:\n",
    "    estatistica_t, p_valor = sts.ttest_rel(ano_2022, ano_2023)\n",
    "\n",
    "    resultado = Verif_Alegacao(p_valor, significancia)\n",
    "\n",
    "    print(f\" R: Com {int(significancia*100)}% de significância a alegação dos moradores é {resultado}\")"
   ]
  },
  {
   "attachments": {},
   "cell_type": "markdown",
   "metadata": {},
   "source": [
    "2. Alguns moradores alegam que o condomínio de um ano para o outro, passou a gastar muito mais água do que o normal."
   ]
  },
  {
   "cell_type": "code",
   "execution_count": 30,
   "metadata": {},
   "outputs": [
    {
     "name": "stdout",
     "output_type": "stream",
     "text": [
      "Ambas as amostras seguem uma distribuição normal.\n",
      "Ambas as amostras apresentam homocedasticidade.\n",
      "Prossiga com o teste-t.\n"
     ]
    }
   ],
   "source": [
    "# 1.a. É possível testar a alegação dos moradores utilizando a teoria de teste-t? \n",
    "\n",
    "shapiro_total_2022 = sts.shapiro(ano_2022)\n",
    "shapiro_total_2023 = sts.shapiro(ano_2023)\n",
    "\n",
    "levene_total = sts.levene(ano_2022, ano_2023)\n",
    "\n",
    "# Verificando se ambas as amostras seguem uma distribuição normal\n",
    "if shapiro_total_2022.pvalue > 0.05 and shapiro_total_2023.pvalue > 0.05:\n",
    "    normalidade_total = \"Ambas as amostras seguem uma distribuição normal.\"\n",
    "else:\n",
    "    normalidade_total = \"Pelo menos uma das amostras não segue uma distribuição normal.\"\n",
    "\n",
    "# Verificando se as variâncias são iguais e se é apropriado prosseguir com o teste-t\n",
    "if levene_total.pvalue > 0.05:\n",
    "    variancias_iguais_total = \"Ambas as amostras apresentam homocedasticidade.\"\n",
    "    teste_t_total = \"Prossiga com o teste-t.\"\n",
    "else:\n",
    "    variancias_iguais_total = \"Pelo menos uma das amostras apresenta heterocedasticidade.\"\n",
    "    teste_t_total = \"Considere uma alternativa ao teste-t.\"\n",
    "\n",
    "print(normalidade_total)\n",
    "print(variancias_iguais_total)\n",
    "print(teste_t_total)\n"
   ]
  },
  {
   "cell_type": "code",
   "execution_count": 31,
   "metadata": {},
   "outputs": [
    {
     "name": "stdout",
     "output_type": "stream",
     "text": [
      " R: Com 1% de significância a alegação dos moradores é improcedente\n",
      " R: Com 5% de significância a alegação dos moradores é improcedente\n",
      " R: Com 10% de significância a alegação dos moradores é improcedente\n"
     ]
    }
   ],
   "source": [
    "# 1.b. Considere que os dados são normais e tem homocedasticidade. Dessa forma,\n",
    "# a alegação dos moradores faz sentido? Teste com 1%, 5% e 10% de significância. \n",
    "# Para cada significância testada, qual o tipo de erro que pode ter sido cometido?\n",
    "\n",
    "for significancia in significancias:\n",
    "    estatistica_t, p_valor = sts.ttest_ind(ano_2022, ano_2023, equal_var=False)\n",
    "\n",
    "    resultado = Verif_Alegacao(p_valor, significancia)\n",
    "\n",
    "    print(f\" R: Com {int(significancia*100)}% de significância a alegação dos moradores é {resultado}\")\n"
   ]
  },
  {
   "attachments": {},
   "cell_type": "markdown",
   "metadata": {},
   "source": [
    "3. Será feita uma campanha no condomínio para conscientizar sobre o uso da água. Moradores com baixo consumo receberão 10% de desconto. Considerando que os dados são normais, qual deve ser o consumo máximo de água para que o desconto atinja 1% dos moradores?"
   ]
  },
  {
   "cell_type": "code",
   "execution_count": 32,
   "metadata": {},
   "outputs": [
    {
     "name": "stdout",
     "output_type": "stream",
     "text": [
      " R:  O consumo máximo de água para 1% dos moradores receberem o desconto é 47.41.\n"
     ]
    }
   ],
   "source": [
    "media_amostra = np.mean(ano_2023)\n",
    "desvio_amostra = np.std(ano_2023)\n",
    "\n",
    "percentil = norm.ppf(0.99, loc=media_amostra, scale=desvio_amostra)\n",
    "\n",
    "print(f\" R:  O consumo máximo de água para 1% dos moradores receberem o desconto é {percentil:.2f}.\")"
   ]
  }
 ],
 "metadata": {
  "kernelspec": {
   "display_name": "Python 3",
   "language": "python",
   "name": "python3"
  },
  "language_info": {
   "codemirror_mode": {
    "name": "ipython",
    "version": 3
   },
   "file_extension": ".py",
   "mimetype": "text/x-python",
   "name": "python",
   "nbconvert_exporter": "python",
   "pygments_lexer": "ipython3",
   "version": "3.11.3"
  },
  "orig_nbformat": 4,
  "vscode": {
   "interpreter": {
    "hash": "ff4b1fca65a764b45acb559e482afe389d289dd599b9f8c5fd12ff5c2ea46a65"
   }
  }
 },
 "nbformat": 4,
 "nbformat_minor": 2
}
