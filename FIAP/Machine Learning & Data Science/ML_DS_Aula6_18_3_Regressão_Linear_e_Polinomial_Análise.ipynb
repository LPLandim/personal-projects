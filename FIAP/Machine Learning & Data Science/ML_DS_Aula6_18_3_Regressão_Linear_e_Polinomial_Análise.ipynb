{
  "cells": [
    {
      "cell_type": "code",
      "execution_count": 2,
      "metadata": {
        "colab": {
          "base_uri": "https://localhost:8080/"
        },
        "id": "enc9Y20lMn1n",
        "outputId": "de827835-ed6b-4115-d28b-6ba18260c2c0"
      },
      "outputs": [],
      "source": [
        "import numpy as np\n",
        "import pandas as pd\n",
        "import matplotlib.pyplot as plt\n",
        "import seaborn as sns\n",
        "import statsmodels.api as sm\n",
        "import scipy.stats as stats\n",
        "from sklearn.linear_model import LinearRegression\n",
        "from sklearn.preprocessing import PolynomialFeatures\n",
        "\n",
        "df = pd.read_csv('datasets/Social_Network_Ads.csv')\n",
        "\n",
        "# transformar coluna com variável categórica em variável binária (dummy)\n",
        "df['Gender'] = df.apply(lambda row: 1 if row['Gender']=='Female' else 0, axis=1)\n",
        "\n",
        "# df.head()\n",
        "# df.count()\n",
        "# Dividir minha base total em teste e treino\n",
        "df_train = df.sample(200)\n",
        "\n",
        "# retiro da base principal as observações que utilizo na base de treino\n",
        "df = df.drop(df_train.index)\n",
        "\n",
        "# Crio uma lista com 10 amostras de 50 observações cada a partir\n",
        "# das 200 observações que sobraram após a retirada das observações\n",
        "# de treino. HAVERÁ REPETIÇÃO\n",
        "samples = []\n",
        "for i in range(10):\n",
        "  samples.append(df.sample(50))\n"
      ]
    },
    {
      "cell_type": "code",
      "execution_count": 3,
      "metadata": {
        "colab": {
          "base_uri": "https://localhost:8080/"
        },
        "id": "zgJfmRYwUVJp",
        "outputId": "cb85cc6a-c78e-4f79-9b2e-c227038cd3d4"
      },
      "outputs": [
        {
          "name": "stdout",
          "output_type": "stream",
          "text": [
            "0.47307010479218636\n",
            "0.12490623270725018\n",
            "Regressão Linear: Aceito H0 e rejeito H1\n",
            "0.6579327242224804\n",
            "0.01583242011785663\n",
            "Regressão Polinomial: Aceito H1 e rejeito H0\n"
          ]
        }
      ],
      "source": [
        "# Criei minhas variáveis de treino\n",
        "X_train = df_train[['Gender','Age','EstimatedSalary']].to_numpy()\n",
        "Y_train = df_train['Purchased'].to_numpy()\n",
        "\n",
        "# Criei meu modelo de Regressão Linear\n",
        "model_linear = LinearRegression()\n",
        "model_linear.fit(X_train, Y_train)\n",
        "score_linear = model_linear.score(X_train, Y_train)\n",
        "\n",
        "# Criei meu modelo de Regressão Polinomial\n",
        "poly_features = PolynomialFeatures(degree=3)\n",
        "X_poly_train = poly_features.fit_transform(X_train)\n",
        "model_poly = LinearRegression()\n",
        "model_poly.fit(X_poly_train, Y_train)\n",
        "score_polynomial = model_poly.score(X_poly_train, Y_train)\n",
        "\n",
        "# Começar a testar o modelo\n",
        "test_score_linear = []\n",
        "test_score_polynomial = []\n",
        "for sample in samples:\n",
        "  # Criando variáveis X, Y para regressão linear\n",
        "  X_test = sample[['Gender','Age','EstimatedSalary']].to_numpy()\n",
        "  Y_test = sample['Purchased'].to_numpy()\n",
        "  test_score_linear.append(model_linear.score(X_test, Y_test))\n",
        "\n",
        "  # Criando variável polinomial para o X\n",
        "  X_test_poly = poly_features.fit_transform(X_test)\n",
        "  test_score_polynomial.append(model_poly.score(X_test_poly, Y_test))\n",
        "\n",
        "alpha = 0.1\n",
        "# Modelagem do teste de hipóteses\n",
        "# H0: score de teste é igual ao score de treino\n",
        "#     a minha regressão não perde poder de explicação quando testa novas variáveis\n",
        "# H1: score de teste é diferente do score de treino\n",
        "#     a minha regressão não explica a variável de interesse da mesma maneira que o teste.\n",
        "\n",
        "t_stat, p_valor = stats.ttest_1samp(test_score_linear, popmean=score_linear)\n",
        "print(score_linear)\n",
        "print(p_valor)\n",
        "if p_valor < alpha:\n",
        "  print(\"Regressão Linear: Aceito H1 e rejeito H0\")\n",
        "else:\n",
        "  print(\"Regressão Linear: Aceito H0 e rejeito H1\")\n",
        "\n",
        "t_stat, p_valor = stats.ttest_1samp(test_score_polynomial, popmean=score_polynomial)\n",
        "print(score_polynomial)\n",
        "print(p_valor)\n",
        "if p_valor < alpha:\n",
        "  print(\"Regressão Polinomial: Aceito H1 e rejeito H0\")\n",
        "else:\n",
        "  print(\"Regressão Polinomial: Aceito H0 e rejeito H1\")\n"
      ]
    },
    {
      "cell_type": "markdown",
      "metadata": {
        "id": "vbjUA_LkaHYI"
      },
      "source": [
        "\n",
        "\n",
        "Regressão linear:\n",
        "y = beta0 + beta1 * x1\n",
        "\n",
        "Regressão polinomial: grau 2\n",
        "y = beta0 + beta1^2 * x1 + beta1^1 * 1\n",
        "\n",
        "Regressão polinomial: grau 3\n",
        "y = beta0 +  beta1^3 * x1 + beta1^2 * x1 + beta1^1 * 1\n",
        "\n",
        "\n",
        "\n"
      ]
    }
  ],
  "metadata": {
    "colab": {
      "provenance": []
    },
    "kernelspec": {
      "display_name": "Python 3",
      "name": "python3"
    },
    "language_info": {
      "codemirror_mode": {
        "name": "ipython",
        "version": 3
      },
      "file_extension": ".py",
      "mimetype": "text/x-python",
      "name": "python",
      "nbconvert_exporter": "python",
      "pygments_lexer": "ipython3",
      "version": "3.12.2"
    }
  },
  "nbformat": 4,
  "nbformat_minor": 0
}
