{
 "cells": [
  {
   "cell_type": "code",
   "execution_count": 61,
   "metadata": {},
   "outputs": [],
   "source": [
    "import numpy as np\n",
    "import pandas as pd\n",
    "import matplotlib.pyplot as plt\n",
    "from sklearn.linear_model import LinearRegression\n",
    "import seaborn as sns\n",
    "import statsmodels.api as sm"
   ]
  },
  {
   "cell_type": "code",
   "execution_count": 62,
   "metadata": {},
   "outputs": [],
   "source": [
    "# Tratei os dados no próprio excel\n",
    "#\n",
    "#\n",
    "#\n",
    "#\n",
    "#\n",
    "# Tratei os dados no próprio excel"
   ]
  },
  {
   "cell_type": "code",
   "execution_count": 63,
   "metadata": {},
   "outputs": [
    {
     "name": "stdout",
     "output_type": "stream",
     "text": [
      "<class 'pandas.core.frame.DataFrame'>\n",
      "RangeIndex: 80 entries, 0 to 79\n",
      "Data columns (total 13 columns):\n",
      " #   Column          Non-Null Count  Dtype \n",
      "---  ------          --------------  ----- \n",
      " 0   Entrevistado    80 non-null     int64 \n",
      " 1   Sexo            80 non-null     object\n",
      " 2   Idade           80 non-null     int64 \n",
      " 3   Renda_familiar  80 non-null     object\n",
      " 4   Região          80 non-null     object\n",
      " 5   Amigos          80 non-null     int64 \n",
      " 6   Esportes        80 non-null     int64 \n",
      " 7   Balada          80 non-null     int64 \n",
      " 8   Teatro          80 non-null     int64 \n",
      " 9   Cinema          80 non-null     int64 \n",
      " 10  Shows           80 non-null     int64 \n",
      " 11  Filmes_Casa     80 non-null     int64 \n",
      " 12  Gasto_Lazer     80 non-null     int64 \n",
      "dtypes: int64(10), object(3)\n",
      "memory usage: 8.3+ KB\n"
     ]
    }
   ],
   "source": [
    "dados = pd.read_csv(\"dados.csv\", sep = ';')\n",
    "\n",
    "dados.info()"
   ]
  },
  {
   "cell_type": "code",
   "execution_count": 64,
   "metadata": {},
   "outputs": [
    {
     "name": "stdout",
     "output_type": "stream",
     "text": [
      "R-quadrado: 0.2811487191357118\n"
     ]
    }
   ],
   "source": [
    "# declarando o modelo de regressão linear\n",
    "model = LinearRegression(n_jobs = None, fit_intercept = True, copy_X= True)\n",
    "\n",
    "# variáveis independentes x\n",
    "x = dados[['Amigos', 'Esportes', 'Balada', 'Teatro', 'Cinema', 'Shows', 'Filmes_Casa', 'Idade']].to_numpy()\n",
    "\n",
    "# variável dependente y\n",
    "y = dados['Gasto_Lazer'].to_numpy()\n",
    "\n",
    "# modelagem da regressão linear\n",
    "model.fit(x, y)\n",
    "\n",
    "# r-quadrado\n",
    "r_quadrado = model.score(x, y)\n",
    "print(\"R-quadrado:\", r_quadrado)"
   ]
  },
  {
   "cell_type": "code",
   "execution_count": 65,
   "metadata": {},
   "outputs": [
    {
     "name": "stdout",
     "output_type": "stream",
     "text": [
      "                            OLS Regression Results                            \n",
      "==============================================================================\n",
      "Dep. Variable:                      y   R-squared:                       0.281\n",
      "Model:                            OLS   Adj. R-squared:                  0.200\n",
      "Method:                 Least Squares   F-statistic:                     3.471\n",
      "Date:                Tue, 20 Feb 2024   Prob (F-statistic):            0.00197\n",
      "Time:                        13:40:06   Log-Likelihood:                -608.04\n",
      "No. Observations:                  80   AIC:                             1234.\n",
      "Df Residuals:                      71   BIC:                             1256.\n",
      "Df Model:                           8                                         \n",
      "Covariance Type:            nonrobust                                         \n",
      "==============================================================================\n",
      "                 coef    std err          t      P>|t|      [0.025      0.975]\n",
      "------------------------------------------------------------------------------\n",
      "const       -148.6834    567.150     -0.262      0.794   -1279.548     982.181\n",
      "x1            62.2161    152.954      0.407      0.685    -242.765     367.197\n",
      "x2           331.9239    127.027      2.613      0.011      78.640     585.208\n",
      "x3           -22.8473    129.800     -0.176      0.861    -281.662     235.967\n",
      "x4           575.0787    233.698      2.461      0.016     109.097    1041.060\n",
      "x5          -115.1541    143.748     -0.801      0.426    -401.780     171.472\n",
      "x6           184.0305    183.059      1.005      0.318    -180.979     549.040\n",
      "x7          -394.3220    153.252     -2.573      0.012    -699.897     -88.747\n",
      "x8            42.5849     27.874      1.528      0.131     -12.994      98.163\n",
      "==============================================================================\n",
      "Omnibus:                       38.309   Durbin-Watson:                   1.865\n",
      "Prob(Omnibus):                  0.000   Jarque-Bera (JB):               88.053\n",
      "Skew:                           1.701   Prob(JB):                     7.58e-20\n",
      "Kurtosis:                       6.853   Cond. No.                         201.\n",
      "==============================================================================\n",
      "\n",
      "Notes:\n",
      "[1] Standard Errors assume that the covariance matrix of the errors is correctly specified.\n"
     ]
    }
   ],
   "source": [
    "# ajustando o modelo de regressão\n",
    "x = sm.add_constant(x)\n",
    "model = sm.OLS(y, x).fit()\n",
    "\n",
    "# OLS\n",
    "print(model.summary())"
   ]
  }
 ],
 "metadata": {
  "kernelspec": {
   "display_name": "Python 3",
   "language": "python",
   "name": "python3"
  },
  "language_info": {
   "codemirror_mode": {
    "name": "ipython",
    "version": 3
   },
   "file_extension": ".py",
   "mimetype": "text/x-python",
   "name": "python",
   "nbconvert_exporter": "python",
   "pygments_lexer": "ipython3",
   "version": "3.12.0"
  },
  "orig_nbformat": 4,
  "vscode": {
   "interpreter": {
    "hash": "fa41c318a2038e95bc4370653de2cec7579237442a953ec2e10c6cce38c0439d"
   }
  }
 },
 "nbformat": 4,
 "nbformat_minor": 2
}
