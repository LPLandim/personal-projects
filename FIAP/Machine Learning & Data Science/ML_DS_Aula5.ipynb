{
  "cells": [
    {
      "cell_type": "code",
      "execution_count": 5,
      "metadata": {
        "colab": {
          "base_uri": "https://localhost:8080/",
          "height": 430
        },
        "id": "ZT2tsIXsKfoi",
        "outputId": "1cf23dc3-6c98-4205-99ab-ac56d88b4b26"
      },
      "outputs": [
        {
          "data": {
            "text/plain": [
              "0.9855621280169347"
            ]
          },
          "execution_count": 5,
          "metadata": {},
          "output_type": "execute_result"
        }
      ],
      "source": [
        "import numpy as np\n",
        "import pandas as pd\n",
        "import matplotlib.pyplot as plt\n",
        "from sklearn.linear_model import LinearRegression\n",
        "import seaborn as sns\n",
        "import statsmodels.api as sm\n",
        "\n",
        "df = pd.read_csv('datasets/estudo.csv', sep=',')\n",
        "\n",
        "df['log_horas'] = np.log(df['horas_estudo'])\n",
        "\n",
        "X = df[['log_horas']].to_numpy()\n",
        "Y = df['idade'].to_numpy()\n",
        "\n",
        "model = LinearRegression(n_jobs=None, fit_intercept=True)\n",
        "model.fit(X, Y)\n",
        "model.score(X, Y)\n",
        "\n",
        "#plt.plot(X, Y, color='red')\n",
        "#plt.plot(X, model.predict(X), color='blue')\n",
        "#plt.show()\n"
      ]
    },
    {
      "cell_type": "code",
      "execution_count": 6,
      "metadata": {
        "id": "utfWh8jMZB5D"
      },
      "outputs": [],
      "source": [
        "df = pd.read_csv('datasets/Shopping_data.csv', sep=',')\n",
        "\n",
        "df1 = df.sample(50)\n",
        "df2 = df.sample(50)\n",
        "df3 = df.sample(50)\n",
        "df4 = df.sample(50)\n",
        "\n",
        "# df = 200 registros\n",
        "# df1 = 50 registros\n",
        "# df2 = 50 registros\n",
        "# df3 = 50 registros\n",
        "# df4 = 50 registros"
      ]
    },
    {
      "cell_type": "code",
      "execution_count": 7,
      "metadata": {
        "colab": {
          "base_uri": "https://localhost:8080/"
        },
        "id": "mitQx1Tflt6r",
        "outputId": "3f30278d-7482-4988-b5ba-3088f5b92515"
      },
      "outputs": [
        {
          "name": "stdout",
          "output_type": "stream",
          "text": [
            "0.10707740876869032\n",
            "0.07831162268277336\n",
            "0.03098502042710838\n",
            "0.13569075880327175\n",
            "0.1914338499311764\n"
          ]
        }
      ],
      "source": [
        "X_train = df[['Age']].to_numpy()\n",
        "Y_train = df['Spending Score'].to_numpy()\n",
        "\n",
        "X_test1 = df1[['Age']].to_numpy()\n",
        "Y_test1 = df1['Spending Score'].to_numpy()\n",
        "\n",
        "X_test2 = df2[['Age']].to_numpy()\n",
        "Y_test2 = df2['Spending Score'].to_numpy()\n",
        "\n",
        "X_test3 = df3[['Age']].to_numpy()\n",
        "Y_test3 = df3['Spending Score'].to_numpy()\n",
        "\n",
        "X_test4 = df4[['Age']].to_numpy()\n",
        "Y_test4 = df4['Spending Score'].to_numpy()\n",
        "\n",
        "model = LinearRegression()\n",
        "model.fit(X_train, Y_train)\n",
        "\n",
        "# um R² do meu treino\n",
        "print(model.score(X_train, Y_train))\n",
        "\n",
        "# quatro R² de teste\n",
        "print(model.score(X_test1, Y_test1))\n",
        "print(model.score(X_test2, Y_test2))\n",
        "print(model.score(X_test3, Y_test3))\n",
        "print(model.score(X_test4, Y_test4))\n",
        "\n",
        "# H0: r² de teste é igual ao r² de treino\n",
        "# H1: r² de teste é diferente do r² de treino\n"
      ]
    },
    {
      "cell_type": "code",
      "execution_count": 8,
      "metadata": {
        "colab": {
          "base_uri": "https://localhost:8080/"
        },
        "id": "030r1uYpb4NW",
        "outputId": "ebeac541-84bf-4801-d43a-17b0e8ea72fa"
      },
      "outputs": [
        {
          "name": "stdout",
          "output_type": "stream",
          "text": [
            "0.11595548168779768\n",
            "0.04792582087854569\n"
          ]
        }
      ],
      "source": [
        "from sklearn.model_selection import train_test_split\n",
        "\n",
        "\n",
        "X_train, X_test, Y_train, Y_test = train_test_split(df[['Age']], df['Spending Score'], test_size=0.1)\n",
        "\n",
        "model = LinearRegression()\n",
        "model.fit(X_train, Y_train)\n",
        "\n",
        "print(model.score(X_train, Y_train))\n",
        "print(model.score(X_test, Y_test))\n"
      ]
    },
    {
      "cell_type": "code",
      "execution_count": 9,
      "metadata": {
        "colab": {
          "base_uri": "https://localhost:8080/",
          "height": 468
        },
        "id": "45cONNLSqEgC",
        "outputId": "e65e30c2-e5d6-489c-8c3d-cb9713b6732a"
      },
      "outputs": [
        {
          "name": "stdout",
          "output_type": "stream",
          "text": [
            "0.8626465598113774\n",
            "0.6372688766434311\n"
          ]
        },
        {
          "data": {
            "image/png": "[encoded data removed]",
            "text/plain": [
              "<Figure size 640x480 with 1 Axes>"
            ]
          },
          "metadata": {},
          "output_type": "display_data"
        }
      ],
      "source": [
        "# regressão polinomial\n",
        "\n",
        "import numpy as np\n",
        "import pandas as pd\n",
        "import matplotlib.pyplot as plt\n",
        "from sklearn.linear_model import LinearRegression\n",
        "import seaborn as sns\n",
        "import statsmodels.api as sm\n",
        "from sklearn.preprocessing import PolynomialFeatures\n",
        "\n",
        "df = pd.read_csv('datasets/estudo.csv', sep=',')\n",
        "\n",
        "# Glugose: glicose\n",
        "# Insulin: insulina\n",
        "# regressão para determinar a Insulina a partir da Glicose\n",
        "\n",
        "df = df.loc[df['horas_estudo'] != 0]\n",
        "df = df.loc[df['idade'] != 0]\n",
        "\n",
        "X = df[['horas_estudo']].to_numpy()\n",
        "Y = df['idade'].to_numpy()\n",
        "\n",
        "poly_f = PolynomialFeatures(degree=2)\n",
        "X_poly = poly_f.fit_transform(X)\n",
        "\n",
        "# Gerar o R-quadrado da Regressão Linear\n",
        "# Gerar o R-quadrado da Regressão Polinomial\n",
        "\n",
        "# R2: 0.4 => linear     (NÃO TENHO RISCO DE OVERFITTING)\n",
        "# R2: 0.6 => polinomial (RISCO DE OVERFITTING)\n",
        "\n",
        "# gero o R2 da base de treino\n",
        "# gero o R2 da base de teste\n",
        "# 0.6 => R2 da base de teste\n",
        "# meu modelo não generaliza bem\n",
        "# Vai bem no treino, e vai mal nos testes\n",
        "\n",
        "# regressão linear, regressão polinomial, 20 variáveis pra testar,\n",
        "# normalização e ajustes pra fazer floresta, clusters\n",
        "\n",
        "\n",
        "# Regressão Polinomial\n",
        "model = LinearRegression()\n",
        "model.fit(X_poly, Y) # observar o X tratado: será o desenho de uma curva\n",
        "print(model.score(X_poly, Y))\n",
        "\n",
        "model1 = LinearRegression()\n",
        "model1.fit(X, Y) # observar o X tratado: será o desenho de uma curva\n",
        "print(model1.score(X, Y))\n",
        "\n",
        "plt.scatter(X, Y, color='red')\n",
        "plt.plot(X, model1.predict(X), color='blue')\n",
        "plt.plot(X, model.predict(X_poly), color='green')\n",
        "plt.show()\n"
      ]
    }
  ],
  "metadata": {
    "colab": {
      "provenance": []
    },
    "kernelspec": {
      "display_name": "Python 3",
      "name": "python3"
    },
    "language_info": {
      "codemirror_mode": {
        "name": "ipython",
        "version": 3
      },
      "file_extension": ".py",
      "mimetype": "text/x-python",
      "name": "python",
      "nbconvert_exporter": "python",
      "pygments_lexer": "ipython3",
      "version": "3.12.2"
    }
  },
  "nbformat": 4,
  "nbformat_minor": 0
}
