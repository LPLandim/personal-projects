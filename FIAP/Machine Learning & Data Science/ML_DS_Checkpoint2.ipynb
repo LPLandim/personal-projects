{
 "cells": [
  {
   "cell_type": "markdown",
   "metadata": {},
   "source": [
    "# Importando as bibliotecas"
   ]
  },
  {
   "cell_type": "code",
   "execution_count": 138,
   "metadata": {},
   "outputs": [],
   "source": [
    "import numpy as np\n",
    "import pandas as pd\n",
    "import matplotlib.pyplot as plt\n",
    "import seaborn as sns\n",
    "import statsmodels.api as sm\n",
    "import scipy.stats as stats\n",
    "from sklearn.linear_model import LinearRegression\n",
    "from sklearn.preprocessing import PolynomialFeatures\n",
    "from sklearn.metrics import r2_score\n",
    "from sklearn.model_selection import train_test_split"
   ]
  },
  {
   "cell_type": "markdown",
   "metadata": {},
   "source": [
    "# Importando e verificando os dados"
   ]
  },
  {
   "cell_type": "code",
   "execution_count": 139,
   "metadata": {},
   "outputs": [
    {
     "data": {
      "text/html": [
       "<div>\n",
       "<style scoped>\n",
       "    .dataframe tbody tr th:only-of-type {\n",
       "        vertical-align: middle;\n",
       "    }\n",
       "\n",
       "    .dataframe tbody tr th {\n",
       "        vertical-align: top;\n",
       "    }\n",
       "\n",
       "    .dataframe thead th {\n",
       "        text-align: right;\n",
       "    }\n",
       "</style>\n",
       "<table border=\"1\" class=\"dataframe\">\n",
       "  <thead>\n",
       "    <tr style=\"text-align: right;\">\n",
       "      <th></th>\n",
       "      <th>Ano</th>\n",
       "      <th>Mes</th>\n",
       "      <th>Tipo de Midia</th>\n",
       "      <th>Gastos com Publicidade (em R$)</th>\n",
       "      <th>Previsao Inicial de Aumento de Vendas (em mil unidades)</th>\n",
       "    </tr>\n",
       "  </thead>\n",
       "  <tbody>\n",
       "    <tr>\n",
       "      <th>0</th>\n",
       "      <td>2022</td>\n",
       "      <td>1</td>\n",
       "      <td>Paginas web</td>\n",
       "      <td>87000.0</td>\n",
       "      <td>1000</td>\n",
       "    </tr>\n",
       "    <tr>\n",
       "      <th>1</th>\n",
       "      <td>2022</td>\n",
       "      <td>1</td>\n",
       "      <td>Redes sociais</td>\n",
       "      <td>120000.0</td>\n",
       "      <td>800</td>\n",
       "    </tr>\n",
       "    <tr>\n",
       "      <th>2</th>\n",
       "      <td>2022</td>\n",
       "      <td>1</td>\n",
       "      <td>TV</td>\n",
       "      <td>250000.0</td>\n",
       "      <td>1500</td>\n",
       "    </tr>\n",
       "    <tr>\n",
       "      <th>3</th>\n",
       "      <td>2022</td>\n",
       "      <td>1</td>\n",
       "      <td>Jornal</td>\n",
       "      <td>110000.0</td>\n",
       "      <td>730</td>\n",
       "    </tr>\n",
       "    <tr>\n",
       "      <th>4</th>\n",
       "      <td>2022</td>\n",
       "      <td>1</td>\n",
       "      <td>Revista</td>\n",
       "      <td>40000.0</td>\n",
       "      <td>360</td>\n",
       "    </tr>\n",
       "  </tbody>\n",
       "</table>\n",
       "</div>"
      ],
      "text/plain": [
       "    Ano  Mes  Tipo de Midia  Gastos com Publicidade (em R$)  \\\n",
       "0  2022    1    Paginas web                         87000.0   \n",
       "1  2022    1  Redes sociais                        120000.0   \n",
       "2  2022    1             TV                        250000.0   \n",
       "3  2022    1         Jornal                        110000.0   \n",
       "4  2022    1        Revista                         40000.0   \n",
       "\n",
       "   Previsao Inicial de Aumento de Vendas (em mil unidades)  \n",
       "0                                               1000        \n",
       "1                                                800        \n",
       "2                                               1500        \n",
       "3                                                730        \n",
       "4                                                360        "
      ]
     },
     "execution_count": 139,
     "metadata": {},
     "output_type": "execute_result"
    }
   ],
   "source": [
    "df = pd.read_csv('datasets/Gastos_Publicidade_MelhoresCompras.csv')\n",
    "\n",
    "df.head()"
   ]
  },
  {
   "cell_type": "code",
   "execution_count": 140,
   "metadata": {},
   "outputs": [
    {
     "data": {
      "text/html": [
       "<div>\n",
       "<style scoped>\n",
       "    .dataframe tbody tr th:only-of-type {\n",
       "        vertical-align: middle;\n",
       "    }\n",
       "\n",
       "    .dataframe tbody tr th {\n",
       "        vertical-align: top;\n",
       "    }\n",
       "\n",
       "    .dataframe thead th {\n",
       "        text-align: right;\n",
       "    }\n",
       "</style>\n",
       "<table border=\"1\" class=\"dataframe\">\n",
       "  <thead>\n",
       "    <tr style=\"text-align: right;\">\n",
       "      <th></th>\n",
       "      <th>Ano</th>\n",
       "      <th>Mes</th>\n",
       "      <th>Gastos com Publicidade (em R$)</th>\n",
       "      <th>Previsao Inicial de Aumento de Vendas (em mil unidades)</th>\n",
       "    </tr>\n",
       "  </thead>\n",
       "  <tbody>\n",
       "    <tr>\n",
       "      <th>count</th>\n",
       "      <td>200.00</td>\n",
       "      <td>200.00</td>\n",
       "      <td>200.00</td>\n",
       "      <td>200.00</td>\n",
       "    </tr>\n",
       "    <tr>\n",
       "      <th>mean</th>\n",
       "      <td>2022.92</td>\n",
       "      <td>5.81</td>\n",
       "      <td>156151.31</td>\n",
       "      <td>1655.36</td>\n",
       "    </tr>\n",
       "    <tr>\n",
       "      <th>std</th>\n",
       "      <td>0.80</td>\n",
       "      <td>3.33</td>\n",
       "      <td>75946.11</td>\n",
       "      <td>1106.97</td>\n",
       "    </tr>\n",
       "    <tr>\n",
       "      <th>min</th>\n",
       "      <td>2022.00</td>\n",
       "      <td>1.00</td>\n",
       "      <td>11000.00</td>\n",
       "      <td>200.00</td>\n",
       "    </tr>\n",
       "    <tr>\n",
       "      <th>25%</th>\n",
       "      <td>2022.00</td>\n",
       "      <td>3.00</td>\n",
       "      <td>100800.00</td>\n",
       "      <td>822.00</td>\n",
       "    </tr>\n",
       "    <tr>\n",
       "      <th>50%</th>\n",
       "      <td>2023.00</td>\n",
       "      <td>5.50</td>\n",
       "      <td>139550.00</td>\n",
       "      <td>1400.00</td>\n",
       "    </tr>\n",
       "    <tr>\n",
       "      <th>75%</th>\n",
       "      <td>2024.00</td>\n",
       "      <td>8.25</td>\n",
       "      <td>203700.00</td>\n",
       "      <td>2132.00</td>\n",
       "    </tr>\n",
       "    <tr>\n",
       "      <th>max</th>\n",
       "      <td>2024.00</td>\n",
       "      <td>12.00</td>\n",
       "      <td>335664.00</td>\n",
       "      <td>5310.00</td>\n",
       "    </tr>\n",
       "  </tbody>\n",
       "</table>\n",
       "</div>"
      ],
      "text/plain": [
       "           Ano     Mes  Gastos com Publicidade (em R$)  \\\n",
       "count   200.00  200.00                          200.00   \n",
       "mean   2022.92    5.81                       156151.31   \n",
       "std       0.80    3.33                        75946.11   \n",
       "min    2022.00    1.00                        11000.00   \n",
       "25%    2022.00    3.00                       100800.00   \n",
       "50%    2023.00    5.50                       139550.00   \n",
       "75%    2024.00    8.25                       203700.00   \n",
       "max    2024.00   12.00                       335664.00   \n",
       "\n",
       "       Previsao Inicial de Aumento de Vendas (em mil unidades)  \n",
       "count                                             200.00        \n",
       "mean                                             1655.36        \n",
       "std                                              1106.97        \n",
       "min                                               200.00        \n",
       "25%                                               822.00        \n",
       "50%                                              1400.00        \n",
       "75%                                              2132.00        \n",
       "max                                              5310.00        "
      ]
     },
     "execution_count": 140,
     "metadata": {},
     "output_type": "execute_result"
    }
   ],
   "source": [
    "df.describe().round(2)"
   ]
  },
  {
   "cell_type": "code",
   "execution_count": 141,
   "metadata": {},
   "outputs": [
    {
     "name": "stdout",
     "output_type": "stream",
     "text": [
      "<class 'pandas.core.frame.DataFrame'>\n",
      "RangeIndex: 200 entries, 0 to 199\n",
      "Data columns (total 5 columns):\n",
      " #   Column                                                   Non-Null Count  Dtype  \n",
      "---  ------                                                   --------------  -----  \n",
      " 0   Ano                                                      200 non-null    int64  \n",
      " 1   Mes                                                      200 non-null    int64  \n",
      " 2   Tipo de Midia                                            200 non-null    object \n",
      " 3   Gastos com Publicidade (em R$)                           200 non-null    float64\n",
      " 4   Previsao Inicial de Aumento de Vendas (em mil unidades)  200 non-null    int64  \n",
      "dtypes: float64(1), int64(3), object(1)\n",
      "memory usage: 7.9+ KB\n"
     ]
    }
   ],
   "source": [
    "df.info()"
   ]
  },
  {
   "cell_type": "code",
   "execution_count": 142,
   "metadata": {},
   "outputs": [
    {
     "data": {
      "text/plain": [
       "Ano                                                        0\n",
       "Mes                                                        0\n",
       "Tipo de Midia                                              0\n",
       "Gastos com Publicidade (em R$)                             0\n",
       "Previsao Inicial de Aumento de Vendas (em mil unidades)    0\n",
       "dtype: int64"
      ]
     },
     "execution_count": 142,
     "metadata": {},
     "output_type": "execute_result"
    }
   ],
   "source": [
    "df.isnull().sum()"
   ]
  },
  {
   "cell_type": "code",
   "execution_count": 143,
   "metadata": {},
   "outputs": [
    {
     "data": {
      "text/plain": [
       "Tipo de Midia\n",
       "Paginas web      31\n",
       "Redes sociais    31\n",
       "TV               31\n",
       "Jornal           31\n",
       "Revista          31\n",
       "Radio            31\n",
       "Instagram         7\n",
       "Google            7\n",
       "Name: count, dtype: int64"
      ]
     },
     "execution_count": 143,
     "metadata": {},
     "output_type": "execute_result"
    }
   ],
   "source": [
    "df['Tipo de Midia'].value_counts()"
   ]
  },
  {
   "cell_type": "markdown",
   "metadata": {},
   "source": [
    "# Transformando os dados"
   ]
  },
  {
   "cell_type": "code",
   "execution_count": 144,
   "metadata": {},
   "outputs": [],
   "source": [
    "df.rename(columns={'Gastos com Publicidade (em R$)': 'Gastos Publicidade',\n",
    "                    'Previsao Inicial de Aumento de Vendas (em mil unidades)': 'Previsao de Aumento de Vendas'},\n",
    "                      inplace= True)"
   ]
  },
  {
   "cell_type": "code",
   "execution_count": 145,
   "metadata": {},
   "outputs": [],
   "source": [
    "# df['Tipo de Midia'] = df['Tipo de Midia'].apply(lambda x: 0 if x == 'Paginas web' \n",
    "#                                  else 1 if x == 'Redes sociais' \n",
    "#                                  else 2 if x == 'TV' \n",
    "#                                  else 3 if x == 'Jornal' \n",
    "#                                  else 4 if x == 'Revista'\n",
    "#                                  else 5 if x == 'Radio' \n",
    "#                                  else 6 if x == 'Instagram'\n",
    "#                                  else 7 if x == 'Google'\n",
    "#                                  else x)\n"
   ]
  },
  {
   "cell_type": "code",
   "execution_count": 146,
   "metadata": {},
   "outputs": [
    {
     "data": {
      "text/html": [
       "<div>\n",
       "<style scoped>\n",
       "    .dataframe tbody tr th:only-of-type {\n",
       "        vertical-align: middle;\n",
       "    }\n",
       "\n",
       "    .dataframe tbody tr th {\n",
       "        vertical-align: top;\n",
       "    }\n",
       "\n",
       "    .dataframe thead th {\n",
       "        text-align: right;\n",
       "    }\n",
       "</style>\n",
       "<table border=\"1\" class=\"dataframe\">\n",
       "  <thead>\n",
       "    <tr style=\"text-align: right;\">\n",
       "      <th></th>\n",
       "      <th>Ano</th>\n",
       "      <th>Mes</th>\n",
       "      <th>Tipo de Midia</th>\n",
       "      <th>Gastos Publicidade</th>\n",
       "      <th>Previsao de Aumento de Vendas</th>\n",
       "    </tr>\n",
       "  </thead>\n",
       "  <tbody>\n",
       "    <tr>\n",
       "      <th>0</th>\n",
       "      <td>2022</td>\n",
       "      <td>1</td>\n",
       "      <td>Paginas web</td>\n",
       "      <td>87000.0</td>\n",
       "      <td>1000</td>\n",
       "    </tr>\n",
       "    <tr>\n",
       "      <th>1</th>\n",
       "      <td>2022</td>\n",
       "      <td>1</td>\n",
       "      <td>Redes sociais</td>\n",
       "      <td>120000.0</td>\n",
       "      <td>800</td>\n",
       "    </tr>\n",
       "    <tr>\n",
       "      <th>2</th>\n",
       "      <td>2022</td>\n",
       "      <td>1</td>\n",
       "      <td>TV</td>\n",
       "      <td>250000.0</td>\n",
       "      <td>1500</td>\n",
       "    </tr>\n",
       "    <tr>\n",
       "      <th>3</th>\n",
       "      <td>2022</td>\n",
       "      <td>1</td>\n",
       "      <td>Jornal</td>\n",
       "      <td>110000.0</td>\n",
       "      <td>730</td>\n",
       "    </tr>\n",
       "    <tr>\n",
       "      <th>4</th>\n",
       "      <td>2022</td>\n",
       "      <td>1</td>\n",
       "      <td>Revista</td>\n",
       "      <td>40000.0</td>\n",
       "      <td>360</td>\n",
       "    </tr>\n",
       "  </tbody>\n",
       "</table>\n",
       "</div>"
      ],
      "text/plain": [
       "    Ano  Mes  Tipo de Midia  Gastos Publicidade  Previsao de Aumento de Vendas\n",
       "0  2022    1    Paginas web             87000.0                           1000\n",
       "1  2022    1  Redes sociais            120000.0                            800\n",
       "2  2022    1             TV            250000.0                           1500\n",
       "3  2022    1         Jornal            110000.0                            730\n",
       "4  2022    1        Revista             40000.0                            360"
      ]
     },
     "execution_count": 146,
     "metadata": {},
     "output_type": "execute_result"
    }
   ],
   "source": [
    "df.head()"
   ]
  },
  {
   "cell_type": "markdown",
   "metadata": {},
   "source": [
    "# Criando a coluna de ROI"
   ]
  },
  {
   "cell_type": "code",
   "execution_count": 147,
   "metadata": {},
   "outputs": [
    {
     "data": {
      "text/html": [
       "<div>\n",
       "<style scoped>\n",
       "    .dataframe tbody tr th:only-of-type {\n",
       "        vertical-align: middle;\n",
       "    }\n",
       "\n",
       "    .dataframe tbody tr th {\n",
       "        vertical-align: top;\n",
       "    }\n",
       "\n",
       "    .dataframe thead th {\n",
       "        text-align: right;\n",
       "    }\n",
       "</style>\n",
       "<table border=\"1\" class=\"dataframe\">\n",
       "  <thead>\n",
       "    <tr style=\"text-align: right;\">\n",
       "      <th></th>\n",
       "      <th>Ano</th>\n",
       "      <th>Mes</th>\n",
       "      <th>Tipo de Midia</th>\n",
       "      <th>Gastos Publicidade</th>\n",
       "      <th>Previsao de Aumento de Vendas</th>\n",
       "      <th>ROI</th>\n",
       "    </tr>\n",
       "  </thead>\n",
       "  <tbody>\n",
       "    <tr>\n",
       "      <th>0</th>\n",
       "      <td>2022</td>\n",
       "      <td>1</td>\n",
       "      <td>Jornal</td>\n",
       "      <td>110000.0</td>\n",
       "      <td>730.0</td>\n",
       "      <td>0.006636</td>\n",
       "    </tr>\n",
       "    <tr>\n",
       "      <th>1</th>\n",
       "      <td>2022</td>\n",
       "      <td>1</td>\n",
       "      <td>Paginas web</td>\n",
       "      <td>87000.0</td>\n",
       "      <td>1000.0</td>\n",
       "      <td>0.011494</td>\n",
       "    </tr>\n",
       "    <tr>\n",
       "      <th>2</th>\n",
       "      <td>2022</td>\n",
       "      <td>1</td>\n",
       "      <td>Radio</td>\n",
       "      <td>75000.0</td>\n",
       "      <td>450.0</td>\n",
       "      <td>0.006000</td>\n",
       "    </tr>\n",
       "    <tr>\n",
       "      <th>3</th>\n",
       "      <td>2022</td>\n",
       "      <td>1</td>\n",
       "      <td>Redes sociais</td>\n",
       "      <td>120000.0</td>\n",
       "      <td>800.0</td>\n",
       "      <td>0.006667</td>\n",
       "    </tr>\n",
       "    <tr>\n",
       "      <th>4</th>\n",
       "      <td>2022</td>\n",
       "      <td>1</td>\n",
       "      <td>Revista</td>\n",
       "      <td>40000.0</td>\n",
       "      <td>360.0</td>\n",
       "      <td>0.009000</td>\n",
       "    </tr>\n",
       "  </tbody>\n",
       "</table>\n",
       "</div>"
      ],
      "text/plain": [
       "    Ano  Mes  Tipo de Midia  Gastos Publicidade  \\\n",
       "0  2022    1         Jornal            110000.0   \n",
       "1  2022    1    Paginas web             87000.0   \n",
       "2  2022    1          Radio             75000.0   \n",
       "3  2022    1  Redes sociais            120000.0   \n",
       "4  2022    1        Revista             40000.0   \n",
       "\n",
       "   Previsao de Aumento de Vendas       ROI  \n",
       "0                          730.0  0.006636  \n",
       "1                         1000.0  0.011494  \n",
       "2                          450.0  0.006000  \n",
       "3                          800.0  0.006667  \n",
       "4                          360.0  0.009000  "
      ]
     },
     "execution_count": 147,
     "metadata": {},
     "output_type": "execute_result"
    }
   ],
   "source": [
    "df_agrupado = df.groupby(['Ano', 'Mes', 'Tipo de Midia'])[['Gastos Publicidade', 'Previsao de Aumento de Vendas']].mean().reset_index()\n",
    "\n",
    "df_agrupado['ROI'] = df_agrupado['Previsao de Aumento de Vendas'] / df_agrupado['Gastos Publicidade']\n",
    "\n",
    "df_agrupado.head()"
   ]
  },
  {
   "cell_type": "code",
   "execution_count": 148,
   "metadata": {},
   "outputs": [],
   "source": [
    "# Convertendo \"Tipo de Midia\" para variáveis dummy usando pd.get_dummies()\n",
    "df_agrupado = pd.get_dummies(df_agrupado, columns=['Tipo de Midia'], prefix='Midia')"
   ]
  },
  {
   "cell_type": "markdown",
   "metadata": {},
   "source": [
    "# Criando e testando os Modelos "
   ]
  },
  {
   "cell_type": "code",
   "execution_count": 149,
   "metadata": {},
   "outputs": [
    {
     "name": "stdout",
     "output_type": "stream",
     "text": [
      "R² da Regressão Linear: 0.9708531119028957\n"
     ]
    }
   ],
   "source": [
    "# Separando os dados em conjuntos de treino e teste\n",
    "X = df_agrupado[['Gastos Publicidade', 'Midia_Paginas web', 'Midia_Redes sociais', 'Midia_TV', 'Midia_Jornal', 'Midia_Revista', 'Midia_Radio', 'Midia_Instagram', 'Midia_Google']]\n",
    "y = df_agrupado[\"Previsao de Aumento de Vendas\"]\n",
    "\n",
    "X_train, X_test, y_train, y_test = train_test_split(X, y, test_size=0.2, random_state=42)\n",
    "\n",
    "# Regressão Linear\n",
    "model = LinearRegression()\n",
    "model.fit(X_train, y_train)\n",
    "y_pred_linear = model.predict(X_test)\n",
    "score_linear = r2_score(y_test, y_pred_linear)\n",
    "print(f\"R² da Regressão Linear: {score_linear}\")"
   ]
  },
  {
   "cell_type": "code",
   "execution_count": 150,
   "metadata": {},
   "outputs": [
    {
     "name": "stdout",
     "output_type": "stream",
     "text": [
      "R² da Regressão Polinomial: 0.9767544122004896\n"
     ]
    }
   ],
   "source": [
    "# Regressão Polinomial (com grau 2)\n",
    "poly = PolynomialFeatures(degree=2)\n",
    "X_train_poly = poly.fit_transform(X_train)\n",
    "X_test_poly = poly.transform(X_test)\n",
    "model_poly = LinearRegression()\n",
    "model_poly.fit(X_train_poly, y_train)\n",
    "y_pred_polynomial = model_poly.predict(X_test_poly)\n",
    "score_polynomial = r2_score(y_test, y_pred_polynomial)\n",
    "print(f\"R² da Regressão Polinomial: {score_polynomial}\")"
   ]
  },
  {
   "cell_type": "markdown",
   "metadata": {},
   "source": [
    "# Teste de hipoteses"
   ]
  },
  {
   "cell_type": "code",
   "execution_count": 151,
   "metadata": {},
   "outputs": [
    {
     "name": "stdout",
     "output_type": "stream",
     "text": [
      "Regressão Linear: Estatística t = 1.54, p-valor = 0.1304\n",
      "Regressão Linear: Aceito H0 e rejeito H1 (não há diferença significativa, modelo está preciso)\n",
      "Regressão Polinomial: Estatística t = 1.90, p-valor = 0.0652\n",
      "Regressão Polinomial: Aceito H0 e rejeito H1 (não há diferença significativa, modelo está preciso)\n"
     ]
    }
   ],
   "source": [
    "alpha = 0.05  # Nível de significância\n",
    "\n",
    "# Teste t de uma amostra para a Regressão Linear\n",
    "t_stat, p_valor = stats.ttest_1samp(y_test - y_pred_linear, popmean=0)\n",
    "print(f\"Regressão Linear: Estatística t = {t_stat:.2f}, p-valor = {p_valor:.4f}\")\n",
    "if p_valor < alpha:\n",
    "  print(\"Regressão Linear: Aceito H1 e rejeito H0 (diferença significativa, modelo não está preciso)\")\n",
    "else:\n",
    "  print(\"Regressão Linear: Aceito H0 e rejeito H1 (não há diferença significativa, modelo está preciso)\")\n",
    "\n",
    "# Teste t de uma amostra para a Regressão Polinomial\n",
    "t_stat, p_valor = stats.ttest_1samp(y_test - y_pred_polynomial, popmean=0)\n",
    "print(f\"Regressão Polinomial: Estatística t = {t_stat:.2f}, p-valor = {p_valor:.4f}\")\n",
    "if p_valor < alpha:\n",
    "  print(\"Regressão Polinomial: Aceito H1 e rejeito H0 (diferença significativa, modelo não está preciso)\")\n",
    "else:\n",
    "  print(\"Regressão Polinomial: Aceito H0 e rejeito H1 (não há diferença significativa, modelo está preciso)\")"
   ]
  },
  {
   "cell_type": "markdown",
   "metadata": {},
   "source": [
    "# Criando o gráfico de resíduos"
   ]
  },
  {
   "cell_type": "code",
   "execution_count": 152,
   "metadata": {},
   "outputs": [
    {
     "data": {
      "image/png": "[encoded data removed]",
      "text/plain": [
       "<Figure size 640x480 with 1 Axes>"
      ]
     },
     "metadata": {},
     "output_type": "display_data"
    }
   ],
   "source": [
    "import matplotlib.pyplot as plt\n",
    "import seaborn as sns\n",
    "\n",
    "# Criando o DataFrame de resíduos\n",
    "residuos = pd.DataFrame({'Previsao': y_pred_polynomial, 'Real': y_test, 'Residuo': y_test - y_pred_polynomial})\n",
    "\n",
    "# Plotando o gráfico de resíduos\n",
    "sns.residplot(x='Previsao', y='Residuo', data=residuos, lowess=True, color='blue', scatter_kws={'alpha': 0.5})\n",
    "plt.xlabel('Previsões')\n",
    "plt.ylabel('Resíduos')\n",
    "plt.title('Gráfico de Resíduos - Regressão Polinomial')\n",
    "plt.show()"
   ]
  },
  {
   "cell_type": "code",
   "execution_count": 153,
   "metadata": {},
   "outputs": [
    {
     "name": "stdout",
     "output_type": "stream",
     "text": [
      "                     Coeficiente          ROI\n",
      "Gastos Publicidade      0.011333     0.011333\n",
      "Midia_Paginas web    -208.053965  -208.053965\n",
      "Midia_Redes sociais  -965.141713  -965.141713\n",
      "Midia_TV            -1612.405425 -1612.405425\n",
      "Midia_Jornal         -871.004383  -871.004383\n",
      "Midia_Revista        -567.300479  -567.300479\n",
      "Midia_Radio          -688.626291  -688.626291\n",
      "Midia_Instagram      2442.398514  2442.398514\n",
      "Midia_Google         2470.133742  2470.133742\n"
     ]
    }
   ],
   "source": [
    "coeficientes = pd.DataFrame({'Coeficiente': model.coef_}, index=X.columns)\n",
    "\n",
    "coeficientes['ROI'] = coeficientes['Coeficiente'] / [1, 1, 1, 1, 1, 1, 1, 1, 1]  # Dividindo pelo valor correspondente da coluna 'Gastos Publicidade'\n",
    "print(coeficientes)"
   ]
  },
  {
   "cell_type": "code",
   "execution_count": 154,
   "metadata": {},
   "outputs": [
    {
     "name": "stdout",
     "output_type": "stream",
     "text": [
      "A categoria com o melhor retorno é: Midia_Google\n",
      "A categoria com o pior retorno é: Midia_TV\n"
     ]
    }
   ],
   "source": [
    "melhor_retorno = coeficientes['ROI'].idxmax()\n",
    "pior_retorno = coeficientes['ROI'].idxmin()\n",
    "\n",
    "print(f\"A categoria com o melhor retorno é: {melhor_retorno}\")\n",
    "print(f\"A categoria com o pior retorno é: {pior_retorno}\")"
   ]
  },
  {
   "cell_type": "markdown",
   "metadata": {},
   "source": [
    "## Interpretação dos Coeficientes:\n",
    "\n",
    "`Gastos Publicidade`: Um aumento de 1 real nos gastos com publicidade em qualquer categoria (mantendo as demais fixas) leva a um `aumento` de R$ 0,0113 nas vendas previstas.\n",
    "\n",
    "`Midia_Paginas web`: Um aumento de 1 real no gasto com páginas web (mantendo outras mídias fixas) leva a uma `redução` de R$ 208,05 nas vendas previstas.\n",
    "\n",
    "`Midia_Redes sociais`: Um aumento de 1 real no gasto com redes sociais (mantendo outras mídias fixas) leva a uma `redução` de R$ 965,14 nas vendas previstas.\n",
    "\n",
    "`Midia_TV`: Um aumento de 1 real no gasto com TV (mantendo outras mídias fixas) leva a uma `redução` de R$ 1612,41 nas vendas previstas.\n",
    "\n",
    "`Midia_Jornal`: Um aumento de 1 real no gasto com jornal (mantendo outras mídias fixas) leva a uma `redução` de R$ 871,00 nas vendas previstas.\n",
    "\n",
    "`Midia_Revista`: Um aumento de 1 real no gasto com revista (mantendo outras mídias fixas) leva a uma `redução` de R$ 567,30 nas vendas previstas.\n",
    "\n",
    "`Midia_Radio`: Um aumento de 1 real no gasto com rádio (mantendo outras mídias fixas) leva a uma `redução` de R$ 688,63 nas vendas previstas.\n",
    "\n",
    "`Midia_Instagram`: Um aumento de 1 real no gasto com Instagram (mantendo outras mídias fixas) leva a um `aumento` de R$ 2442,40 nas vendas previstas.\n",
    "\n",
    "`Midia_Google`: Um aumento de 1 real no gasto com Google (mantendo outras mídias fixas) leva a um `aumento` de R$ 2470,13 nas vendas previstas."
   ]
  }
 ],
 "metadata": {
  "kernelspec": {
   "display_name": "Python 3",
   "language": "python",
   "name": "python3"
  },
  "language_info": {
   "codemirror_mode": {
    "name": "ipython",
    "version": 3
   },
   "file_extension": ".py",
   "mimetype": "text/x-python",
   "name": "python",
   "nbconvert_exporter": "python",
   "pygments_lexer": "ipython3",
   "version": "3.12.2"
  }
 },
 "nbformat": 4,
 "nbformat_minor": 2
}
