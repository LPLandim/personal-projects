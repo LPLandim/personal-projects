{
 "cells": [
  {
   "cell_type": "code",
   "execution_count": 3,
   "metadata": {},
   "outputs": [],
   "source": [
    "import numpy as np\n",
    "import pandas as pd\n",
    "import matplotlib.pyplot as plt\n",
    "import seaborn as sns\n",
    "import statsmodels.api as sm\n",
    "from sklearn.metrics import confusion_matrix, classification_report, accuracy_score\n",
    "from sklearn.model_selection import train_test_split\n",
    "from sklearn.linear_model import LogisticRegression\n",
    "from sklearn.linear_model import LinearRegression"
   ]
  },
  {
   "cell_type": "code",
   "execution_count": 5,
   "metadata": {},
   "outputs": [
    {
     "data": {
      "text/plain": [
       "(4238, 16)"
      ]
     },
     "execution_count": 5,
     "metadata": {},
     "output_type": "execute_result"
    }
   ],
   "source": [
    "df = pd.read_csv(\"datasets/framingham.csv\")\n",
    "\n",
    "df.shape"
   ]
  },
  {
   "cell_type": "code",
   "execution_count": 11,
   "metadata": {},
   "outputs": [],
   "source": [
    "df1 = df.dropna()"
   ]
  },
  {
   "cell_type": "code",
   "execution_count": 16,
   "metadata": {},
   "outputs": [
    {
     "name": "stdout",
     "output_type": "stream",
     "text": [
      "(1828, 15)\n",
      "(1828, 1)\n"
     ]
    }
   ],
   "source": [
    "X = ['male', 'age', 'education', 'currentSmoker', 'cigsPerDay',\t'BPMeds', 'prevalentStroke', 'prevalentHyp', 'diabetes', 'totChol',\t'sysBP', 'diaBP', 'BMI', 'heartRate', 'glucose']\n",
    "Y = ['TenYearCHD']\n",
    "\n",
    "X_train, X_test, Y_train, Y_test = train_test_split(df1[X], df1[Y], test_size = 0.5)\n",
    "\n",
    "print(X_train.shape)\n",
    "print(Y_train.shape)"
   ]
  },
  {
   "cell_type": "code",
   "execution_count": 32,
   "metadata": {},
   "outputs": [
    {
     "name": "stderr",
     "output_type": "stream",
     "text": [
      "c:\\Users\\Administrator\\AppData\\Local\\Programs\\Python\\Python312\\Lib\\site-packages\\sklearn\\utils\\validation.py:1300: DataConversionWarning: A column-vector y was passed when a 1d array was expected. Please change the shape of y to (n_samples, ), for example using ravel().\n",
      "  y = column_or_1d(y, warn=True)\n"
     ]
    },
    {
     "name": "stdout",
     "output_type": "stream",
     "text": [
      "85.66739606126916 %\n",
      "\n",
      "              precision    recall  f1-score   support\n",
      "\n",
      "           0     0.8627    0.9898    0.9219      1562\n",
      "           1     0.5556    0.0752    0.1325       266\n",
      "\n",
      "    accuracy                         0.8567      1828\n",
      "   macro avg     0.7091    0.5325    0.5272      1828\n",
      "weighted avg     0.8180    0.8567    0.8070      1828\n",
      "\n"
     ]
    },
    {
     "data": {
      "image/png": "[encoded data removed]",
      "text/plain": [
       "<Figure size 640x480 with 2 Axes>"
      ]
     },
     "metadata": {},
     "output_type": "display_data"
    }
   ],
   "source": [
    "classificador = LogisticRegression(max_iter= 3000)\n",
    "classificador.fit(X_train, Y_train)\n",
    "\n",
    "# Para verificar a eficácia do modelo, basta comparar o Y previsto com o Y de teste\n",
    "\n",
    "Y_predicted = classificador.predict(X_test)\n",
    "\n",
    "conf_matrix = confusion_matrix(Y_test, Y_predicted)\n",
    "\n",
    "#print(conf_matrix)\n",
    "\n",
    "#   NEGATIVO            FALSO NEGATIVO\n",
    "#   FALSO POSITIVO      POSITIVO\n",
    "\n",
    "sns.heatmap(pd.DataFrame(conf_matrix), annot = True, fmt = 'g')\n",
    "\n",
    "train_accuracy = accuracy_score(Y_test, Y_predicted)\n",
    "\n",
    "print(f'{train_accuracy * 100 } %\\n')\n",
    "print(classification_report(Y_test, Y_predicted, digits = 4))"
   ]
  },
  {
   "cell_type": "code",
   "execution_count": 31,
   "metadata": {},
   "outputs": [
    {
     "name": "stdout",
     "output_type": "stream",
     "text": [
      "85.66739606126916 %\n",
      "\n",
      "              precision    recall  f1-score   support\n",
      "\n",
      "           0     0.8627    0.9898    0.9219      1562\n",
      "           1     0.5556    0.0752    0.1325       266\n",
      "\n",
      "    accuracy                         0.8567      1828\n",
      "   macro avg     0.7091    0.5325    0.5272      1828\n",
      "weighted avg     0.8180    0.8567    0.8070      1828\n",
      "\n"
     ]
    }
   ],
   "source": []
  }
 ],
 "metadata": {
  "kernelspec": {
   "display_name": "Python 3",
   "language": "python",
   "name": "python3"
  },
  "language_info": {
   "codemirror_mode": {
    "name": "ipython",
    "version": 3
   },
   "file_extension": ".py",
   "mimetype": "text/x-python",
   "name": "python",
   "nbconvert_exporter": "python",
   "pygments_lexer": "ipython3",
   "version": "3.12.2"
  }
 },
 "nbformat": 4,
 "nbformat_minor": 2
}
